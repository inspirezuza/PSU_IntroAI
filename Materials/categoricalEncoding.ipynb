{
  "nbformat": 4,
  "nbformat_minor": 0,
  "metadata": {
    "colab": {
      "name": "categoricalEncoding.ipynb",
      "provenance": [],
      "collapsed_sections": [],
      "toc_visible": true
    },
    "kernelspec": {
      "name": "python3",
      "display_name": "Python 3"
    }
  },
  "cells": [
    {
      "cell_type": "markdown",
      "metadata": {
        "id": "5s33QWWQR1Gp"
      },
      "source": [
        "#Label Encoding\n",
        "Ref: [Categorical Encoding](https://towardsdatascience.com/categorical-encoding-using-label-encoding-and-one-hot-encoder-911ef77fb5bd)"
      ]
    },
    {
      "cell_type": "markdown",
      "metadata": {
        "id": "MMgvtUKAR7t_"
      },
      "source": [
        "##1.Using category codes approach"
      ]
    },
    {
      "cell_type": "code",
      "metadata": {
        "id": "Lgu_1OwYpAjD"
      },
      "source": [
        "# import required libraries\n",
        "import pandas as pd\n",
        "import numpy as np"
      ],
      "execution_count": 96,
      "outputs": []
    },
    {
      "cell_type": "code",
      "metadata": {
        "id": "JW0q0p1PSaqv"
      },
      "source": [
        "# creating initial dataframe\n",
        "bridge_types = ('Arch','Beam','Truss','Cantilever','Tied Arch','Suspension','Cable')\n",
        "bridge_df = pd.DataFrame(bridge_types, columns=['Bridge_Types'])\n",
        "bridge_df"
      ],
      "execution_count": null,
      "outputs": []
    },
    {
      "cell_type": "code",
      "metadata": {
        "colab": {
          "base_uri": "https://localhost:8080/"
        },
        "id": "CJfJ-U6UjX6U",
        "outputId": "717b59f6-cd10-409e-cbfc-d26133aa7c76"
      },
      "source": [
        "bridge_df['Bridge_Types'].dtypes  "
      ],
      "execution_count": 98,
      "outputs": [
        {
          "output_type": "execute_result",
          "data": {
            "text/plain": [
              "dtype('O')"
            ]
          },
          "metadata": {
            "tags": []
          },
          "execution_count": 98
        }
      ]
    },
    {
      "cell_type": "markdown",
      "metadata": {
        "id": "DTPjN--5hYDg"
      },
      "source": [
        "Ref: [pandas.DataFrame.astype](https://pandas.pydata.org/docs/reference/api/pandas.DataFrame.astype.html)"
      ]
    },
    {
      "cell_type": "code",
      "metadata": {
        "id": "czGWZxJiS1BA"
      },
      "source": [
        "# converting type of columns to 'category'\n",
        "bridge_df['Bridge_Types'] = bridge_df['Bridge_Types'].astype('category')\n",
        "bridge_df"
      ],
      "execution_count": null,
      "outputs": []
    },
    {
      "cell_type": "code",
      "metadata": {
        "id": "-dZx3e96jJR8"
      },
      "source": [
        "bridge_df['Bridge_Types'].dtypes  "
      ],
      "execution_count": null,
      "outputs": []
    },
    {
      "cell_type": "code",
      "metadata": {
        "id": "FkjYwUE9TC0m"
      },
      "source": [
        "# Assigning numerical values and storing in another column\n",
        "bridge_df['Bridge_Types_Cat'] = bridge_df['Bridge_Types'].cat.codes\n",
        "bridge_df"
      ],
      "execution_count": null,
      "outputs": []
    },
    {
      "cell_type": "code",
      "metadata": {
        "id": "Y90bKQhDk-jE"
      },
      "source": [
        "bridge_df['Bridge_Types'].dtypes  "
      ],
      "execution_count": null,
      "outputs": []
    },
    {
      "cell_type": "code",
      "metadata": {
        "id": "AzgLDRjrknhl"
      },
      "source": [
        "bridge_df['Bridge_Types_Cat'].dtypes  "
      ],
      "execution_count": null,
      "outputs": []
    },
    {
      "cell_type": "markdown",
      "metadata": {
        "id": "Xoyx-_1IiH5T"
      },
      "source": [
        "###Summary"
      ]
    },
    {
      "cell_type": "code",
      "metadata": {
        "id": "wke8TiYHlD3Y",
        "colab": {
          "base_uri": "https://localhost:8080/",
          "height": 266
        },
        "outputId": "60a57f0c-3eef-485e-d0e6-fcccb65057ca"
      },
      "source": [
        "#Summary\n",
        "# import required libraries\n",
        "import pandas as pd\n",
        "import numpy as np\n",
        "\n",
        "# creating initial dataframe\n",
        "bridge_types = ('Arch','Beam','Truss','Cantilever','Tied Arch','Suspension','Cable')\n",
        "bridge_df = pd.DataFrame(bridge_types, columns=['Bridge_Types'])\n",
        "\n",
        "# converting type of columns to 'category'\n",
        "bridge_df['Bridge_Types'] = bridge_df['Bridge_Types'].astype('category')\n",
        "\n",
        "# Assigning numerical values and storing in another column\n",
        "bridge_df['Bridge_Types_Cat'] = bridge_df['Bridge_Types'].cat.codes\n",
        "bridge_df"
      ],
      "execution_count": 104,
      "outputs": [
        {
          "output_type": "execute_result",
          "data": {
            "text/html": [
              "<div>\n",
              "<style scoped>\n",
              "    .dataframe tbody tr th:only-of-type {\n",
              "        vertical-align: middle;\n",
              "    }\n",
              "\n",
              "    .dataframe tbody tr th {\n",
              "        vertical-align: top;\n",
              "    }\n",
              "\n",
              "    .dataframe thead th {\n",
              "        text-align: right;\n",
              "    }\n",
              "</style>\n",
              "<table border=\"1\" class=\"dataframe\">\n",
              "  <thead>\n",
              "    <tr style=\"text-align: right;\">\n",
              "      <th></th>\n",
              "      <th>Bridge_Types</th>\n",
              "      <th>Bridge_Types_Cat</th>\n",
              "    </tr>\n",
              "  </thead>\n",
              "  <tbody>\n",
              "    <tr>\n",
              "      <th>0</th>\n",
              "      <td>Arch</td>\n",
              "      <td>0</td>\n",
              "    </tr>\n",
              "    <tr>\n",
              "      <th>1</th>\n",
              "      <td>Beam</td>\n",
              "      <td>1</td>\n",
              "    </tr>\n",
              "    <tr>\n",
              "      <th>2</th>\n",
              "      <td>Truss</td>\n",
              "      <td>6</td>\n",
              "    </tr>\n",
              "    <tr>\n",
              "      <th>3</th>\n",
              "      <td>Cantilever</td>\n",
              "      <td>3</td>\n",
              "    </tr>\n",
              "    <tr>\n",
              "      <th>4</th>\n",
              "      <td>Tied Arch</td>\n",
              "      <td>5</td>\n",
              "    </tr>\n",
              "    <tr>\n",
              "      <th>5</th>\n",
              "      <td>Suspension</td>\n",
              "      <td>4</td>\n",
              "    </tr>\n",
              "    <tr>\n",
              "      <th>6</th>\n",
              "      <td>Cable</td>\n",
              "      <td>2</td>\n",
              "    </tr>\n",
              "  </tbody>\n",
              "</table>\n",
              "</div>"
            ],
            "text/plain": [
              "  Bridge_Types  Bridge_Types_Cat\n",
              "0         Arch                 0\n",
              "1         Beam                 1\n",
              "2        Truss                 6\n",
              "3   Cantilever                 3\n",
              "4    Tied Arch                 5\n",
              "5   Suspension                 4\n",
              "6        Cable                 2"
            ]
          },
          "metadata": {
            "tags": []
          },
          "execution_count": 104
        }
      ]
    },
    {
      "cell_type": "markdown",
      "metadata": {
        "id": "WUldECtnlU0t"
      },
      "source": [
        "##2.Using sci-kit learn library approach\n",
        "\n",
        "Ref: [Scikit Label Encoder](https://scikit-learn.org/stable/modules/generated/sklearn.preprocessing.LabelEncoder.html)"
      ]
    },
    {
      "cell_type": "code",
      "metadata": {
        "id": "hsJrMW8ZlmR8"
      },
      "source": [
        "import pandas as pd\n",
        "import numpy as np\n",
        "\n",
        "from sklearn.preprocessing import LabelEncoder\n",
        "# creating initial dataframe\n",
        "bridge_types = ('Arch','Beam','Truss','Cantilever','Tied Arch','Suspension','Cable')\n",
        "bridge_df = pd.DataFrame(bridge_types, columns=['Bridge_Types'])\n",
        "\n",
        "# creating instance of labelencoder\n",
        "labelencoder = LabelEncoder()\n",
        "\n",
        "# Assigning numerical values and storing in another column\n",
        "bridge_df['Bridge_Types_Cat'] = labelencoder.fit_transform(bridge_df['Bridge_Types'])\n",
        "bridge_df"
      ],
      "execution_count": null,
      "outputs": []
    },
    {
      "cell_type": "markdown",
      "metadata": {
        "id": "t_wakn2EmhpH"
      },
      "source": [
        "#One-hot Encoding"
      ]
    },
    {
      "cell_type": "markdown",
      "metadata": {
        "id": "bdXHbFZ3oHGs"
      },
      "source": [
        "##1.Using sci-kit learn library approach\n",
        "\n",
        "Ref: [Scikit One-hot Encoder](https://scikit-learn.org/stable/modules/generated/sklearn.preprocessing.OneHotEncoder.html)"
      ]
    },
    {
      "cell_type": "code",
      "metadata": {
        "id": "dGVqW1W9pTeh"
      },
      "source": [
        "import pandas as pd\n",
        "import numpy as np\n",
        "from sklearn.preprocessing import OneHotEncoder\n",
        "\n",
        "# creating instance of one-hot-encoder\n",
        "# When this parameter is set to ‘ignore’ and an unknown category is encountered during transform,\n",
        "# the resulting one-hot encoded columns for this feature will be all zeros.\n",
        "enc = OneHotEncoder(handle_unknown='ignore')\n",
        "\n",
        "# passing bridge-types-cat column (label encoded values of bridge_types)\n",
        "enc_df = pd.DataFrame(enc.fit_transform(bridge_df[['Bridge_Types_Cat']]).toarray())\n",
        "enc_df"
      ],
      "execution_count": null,
      "outputs": []
    },
    {
      "cell_type": "code",
      "metadata": {
        "id": "PPtI5RRZqEwt"
      },
      "source": [
        "# merge with main df bridge_df on key values\n",
        "bridge_df = bridge_df.join(enc_df)\n",
        "bridge_df"
      ],
      "execution_count": null,
      "outputs": []
    },
    {
      "cell_type": "code",
      "metadata": {
        "id": "IPc2C8ZqwFrN"
      },
      "source": [
        "bridge_df.drop(columns='Bridge_Types_Cat')"
      ],
      "execution_count": null,
      "outputs": []
    },
    {
      "cell_type": "markdown",
      "metadata": {
        "id": "HV7OzQuaqh12"
      },
      "source": [
        "##2.Using dummies values approach"
      ]
    },
    {
      "cell_type": "code",
      "metadata": {
        "id": "WO6HsybjpXsM"
      },
      "source": [
        "import pandas as pd\n",
        "import numpy as np\n",
        "\n",
        "# creating initial dataframe\n",
        "bridge_types = ('Arch','Beam','Truss','Cantilever','Tied Arch','Suspension','Cable')\n",
        "bridge_df = pd.DataFrame(bridge_types, columns=['Bridge_Types'])\n",
        "\n",
        "# generate binary values using get_dummies\n",
        "dum_df = pd.get_dummies(bridge_df, columns=[\"Bridge_Types\"], prefix=[\"Type_is\"] )\n",
        "dum_df"
      ],
      "execution_count": null,
      "outputs": []
    },
    {
      "cell_type": "code",
      "metadata": {
        "id": "9-1GjTVsqvWW"
      },
      "source": [
        "# merge with main df bridge_df on key values\n",
        "bridge_df = bridge_df.join(dum_df)\n",
        "bridge_df"
      ],
      "execution_count": null,
      "outputs": []
    }
  ]
}